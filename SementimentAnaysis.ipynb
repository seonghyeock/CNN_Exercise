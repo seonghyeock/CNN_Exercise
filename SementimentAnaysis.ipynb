{
  "nbformat": 4,
  "nbformat_minor": 0,
  "metadata": {
    "colab": {
      "provenance": [],
      "authorship_tag": "ABX9TyOnwPqkaYISp7/QiNwhgQ8a",
      "include_colab_link": true
    },
    "kernelspec": {
      "name": "python3",
      "display_name": "Python 3"
    },
    "language_info": {
      "name": "python"
    }
  },
  "cells": [
    {
      "cell_type": "markdown",
      "metadata": {
        "id": "view-in-github",
        "colab_type": "text"
      },
      "source": [
        "<a href=\"https://colab.research.google.com/github/seonghyeock/CNN_Exercise/blob/main/SementimentAnaysis.ipynb\" target=\"_parent\"><img src=\"https://colab.research.google.com/assets/colab-badge.svg\" alt=\"Open In Colab\"/></a>"
      ]
    },
    {
      "cell_type": "code",
      "execution_count": null,
      "metadata": {
        "id": "kKFpHk4QRyXz"
      },
      "outputs": [],
      "source": [
        "import tensorflow as tf\n",
        "from tensorflow.keras.datasets import imdb\n",
        "from tensorflow.keras.preprocessing.sequence import pad_sequences\n",
        "from tensorflow.keras.models import Sequential\n",
        "from tensorflow.keras.layers import Embedding, LSTM, Dense\n"
      ]
    },
    {
      "cell_type": "code",
      "source": [],
      "metadata": {
        "id": "qar5swPWaurq"
      },
      "execution_count": null,
      "outputs": []
    },
    {
      "cell_type": "code",
      "source": [
        "# 상위 자주 사용되는 단어 10,000개만 사용\n",
        "max_features = 10000\n",
        "# 리뷰 단어 수를 500개로 제한\n",
        "maxlen = 500\n",
        "\n",
        "(x_train, y_train), (x_test, y_test) = imdb.load_data(num_words=max_features)\n",
        "\n",
        "# 시퀀스 패딩\n",
        "x_train = pad_sequences(x_train, maxlen=maxlen)\n",
        "x_test = pad_sequences(x_test, maxlen=maxlen)\n"
      ],
      "metadata": {
        "colab": {
          "base_uri": "https://localhost:8080/"
        },
        "id": "dunEkCO2TWjP",
        "outputId": "59deb287-ec51-4a4d-dd9d-8b762ceb9f66"
      },
      "execution_count": null,
      "outputs": [
        {
          "output_type": "stream",
          "name": "stdout",
          "text": [
            "Downloading data from https://storage.googleapis.com/tensorflow/tf-keras-datasets/imdb.npz\n",
            "17464789/17464789 [==============================] - 0s 0us/step\n"
          ]
        }
      ]
    },
    {
      "cell_type": "code",
      "source": [
        "model = Sequential()\n",
        "model.add(Embedding(max_features, 32))\n",
        "model.add(LSTM(32))\n",
        "model.add(Dense(1, activation='sigmoid'))\n",
        "\n",
        "model.compile(optimizer='adam', loss='binary_crossentropy', metrics=['accuracy'])\n",
        "model.fit(x_train, y_train, epochs=10, batch_size=128, validation_split=0.2)\n"
      ],
      "metadata": {
        "colab": {
          "base_uri": "https://localhost:8080/"
        },
        "id": "aU6zPgF5TY4c",
        "outputId": "88d99080-b7cf-413a-996f-396c7575e747"
      },
      "execution_count": null,
      "outputs": [
        {
          "output_type": "stream",
          "name": "stdout",
          "text": [
            "Epoch 1/10\n",
            "157/157 [==============================] - 30s 181ms/step - loss: 0.5105 - accuracy: 0.7345 - val_loss: 0.3605 - val_accuracy: 0.8530\n",
            "Epoch 2/10\n",
            "157/157 [==============================] - 27s 175ms/step - loss: 0.2632 - accuracy: 0.8997 - val_loss: 0.2953 - val_accuracy: 0.8806\n",
            "Epoch 3/10\n",
            "157/157 [==============================] - 28s 177ms/step - loss: 0.1982 - accuracy: 0.9292 - val_loss: 0.2924 - val_accuracy: 0.8844\n",
            "Epoch 4/10\n",
            "157/157 [==============================] - 27s 174ms/step - loss: 0.1535 - accuracy: 0.9475 - val_loss: 0.3296 - val_accuracy: 0.8804\n",
            "Epoch 5/10\n",
            "157/157 [==============================] - 28s 181ms/step - loss: 0.1231 - accuracy: 0.9585 - val_loss: 0.3430 - val_accuracy: 0.8804\n",
            "Epoch 6/10\n",
            "157/157 [==============================] - 28s 175ms/step - loss: 0.0952 - accuracy: 0.9706 - val_loss: 0.3765 - val_accuracy: 0.8734\n",
            "Epoch 7/10\n",
            "157/157 [==============================] - 28s 178ms/step - loss: 0.0798 - accuracy: 0.9751 - val_loss: 0.4099 - val_accuracy: 0.8734\n",
            "Epoch 8/10\n",
            "157/157 [==============================] - 27s 174ms/step - loss: 0.0635 - accuracy: 0.9808 - val_loss: 0.5377 - val_accuracy: 0.8648\n",
            "Epoch 9/10\n",
            "157/157 [==============================] - 28s 178ms/step - loss: 0.0664 - accuracy: 0.9793 - val_loss: 0.5438 - val_accuracy: 0.8696\n",
            "Epoch 10/10\n",
            "157/157 [==============================] - 27s 175ms/step - loss: 0.0583 - accuracy: 0.9814 - val_loss: 0.4586 - val_accuracy: 0.8690\n"
          ]
        },
        {
          "output_type": "execute_result",
          "data": {
            "text/plain": [
              "<keras.src.callbacks.History at 0x7d5498413520>"
            ]
          },
          "metadata": {},
          "execution_count": 3
        }
      ]
    },
    {
      "cell_type": "code",
      "source": [
        "loss, accuracy = model.evaluate(x_test, y_test)\n",
        "print(f'Test Accuracy: {accuracy}')\n"
      ],
      "metadata": {
        "colab": {
          "base_uri": "https://localhost:8080/"
        },
        "id": "Ob-SFQIUTazQ",
        "outputId": "f1e779ba-085c-4b8c-ee79-1d03333a6248"
      },
      "execution_count": null,
      "outputs": [
        {
          "output_type": "stream",
          "name": "stdout",
          "text": [
            "602/782 [======================>.......] - ETA: 4s - loss: 0.5024 - accuracy: 0.8576"
          ]
        }
      ]
    }
  ]
}